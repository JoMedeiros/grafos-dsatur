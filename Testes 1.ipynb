{
 "cells": [
  {
   "cell_type": "code",
   "execution_count": 16,
   "metadata": {},
   "outputs": [],
   "source": [
    "# Importa as coisas necessarias\n",
    "import pandas as pd\n",
    "import networkx as nx\n",
    "import matplotlib.pyplot as plt\n",
    "#from graphviz import Graph"
   ]
  },
  {
   "cell_type": "code",
   "execution_count": 6,
   "metadata": {},
   "outputs": [
    {
     "data": {
      "text/html": [
       "<div>\n",
       "<style scoped>\n",
       "    .dataframe tbody tr th:only-of-type {\n",
       "        vertical-align: middle;\n",
       "    }\n",
       "\n",
       "    .dataframe tbody tr th {\n",
       "        vertical-align: top;\n",
       "    }\n",
       "\n",
       "    .dataframe thead th {\n",
       "        text-align: right;\n",
       "    }\n",
       "</style>\n",
       "<table border=\"1\" class=\"dataframe\">\n",
       "  <thead>\n",
       "    <tr style=\"text-align: right;\">\n",
       "      <th></th>\n",
       "      <th>Ano-Período</th>\n",
       "      <th>Componente</th>\n",
       "      <th>Tipo</th>\n",
       "      <th>Situação</th>\n",
       "      <th>Horário</th>\n",
       "      <th>Vagas</th>\n",
       "    </tr>\n",
       "  </thead>\n",
       "  <tbody>\n",
       "    <tr>\n",
       "      <th>0</th>\n",
       "      <td>2018-2</td>\n",
       "      <td>DBQ0050 - BIOINFORMÁTICA ESTRUTURAL</td>\n",
       "      <td>Turma Regular</td>\n",
       "      <td>Atendida</td>\n",
       "      <td>35T12 (30/07/2018 - 22/12/2018)</td>\n",
       "      <td>20</td>\n",
       "    </tr>\n",
       "    <tr>\n",
       "      <th>1</th>\n",
       "      <td>2018-2</td>\n",
       "      <td>DBQ0050 - BIOINFORMÁTICA ESTRUTURAL</td>\n",
       "      <td>Turma Regular</td>\n",
       "      <td>Removida</td>\n",
       "      <td>35T34 (30/07/2018 - 22/12/2018)</td>\n",
       "      <td>10</td>\n",
       "    </tr>\n",
       "    <tr>\n",
       "      <th>2</th>\n",
       "      <td>2018-2</td>\n",
       "      <td>DIM0109.0 - CIRCUITOS LÓGICOS</td>\n",
       "      <td>Turma Regular</td>\n",
       "      <td>Removida</td>\n",
       "      <td>24T34</td>\n",
       "      <td>10</td>\n",
       "    </tr>\n",
       "    <tr>\n",
       "      <th>3</th>\n",
       "      <td>2018-2</td>\n",
       "      <td>DIM0109.1 - LABORATÓRIO DE CIRCUITOS LÓGICOS</td>\n",
       "      <td>Turma Regular</td>\n",
       "      <td>Removida</td>\n",
       "      <td>6T34</td>\n",
       "      <td>10</td>\n",
       "    </tr>\n",
       "    <tr>\n",
       "      <th>4</th>\n",
       "      <td>2018-2</td>\n",
       "      <td>DIM0114 - BANCO DE DADOS</td>\n",
       "      <td>Turma Regular</td>\n",
       "      <td>Atendida</td>\n",
       "      <td>24M34 (30/07/2018 - 22/12/2018)</td>\n",
       "      <td>10</td>\n",
       "    </tr>\n",
       "  </tbody>\n",
       "</table>\n",
       "</div>"
      ],
      "text/plain": [
       "  Ano-Período                                    Componente           Tipo  \\\n",
       "0      2018-2           DBQ0050 - BIOINFORMÁTICA ESTRUTURAL  Turma Regular   \n",
       "1      2018-2           DBQ0050 - BIOINFORMÁTICA ESTRUTURAL  Turma Regular   \n",
       "2      2018-2                 DIM0109.0 - CIRCUITOS LÓGICOS  Turma Regular   \n",
       "3      2018-2  DIM0109.1 - LABORATÓRIO DE CIRCUITOS LÓGICOS  Turma Regular   \n",
       "4      2018-2                      DIM0114 - BANCO DE DADOS  Turma Regular   \n",
       "\n",
       "   Situação                          Horário  Vagas  \n",
       "0  Atendida  35T12 (30/07/2018 - 22/12/2018)     20  \n",
       "1  Removida  35T34 (30/07/2018 - 22/12/2018)     10  \n",
       "2  Removida                            24T34     10  \n",
       "3  Removida                             6T34     10  \n",
       "4  Atendida  24M34 (30/07/2018 - 22/12/2018)     10  "
      ]
     },
     "execution_count": 6,
     "metadata": {},
     "output_type": "execute_result"
    }
   ],
   "source": [
    "# Lê o arquivo com os dados\n",
    "file = pd.read_csv(\"turmas.csv\")\n",
    "file.head()"
   ]
  },
  {
   "cell_type": "code",
   "execution_count": 147,
   "metadata": {},
   "outputs": [],
   "source": [
    "# Seleciona as turmas atendidas\n",
    "atendidas = file[file[\"Situação\"] == \"Atendida\"].head(20)\n",
    "atendidas = atendidas.reset_index()\n",
    "atendidas = atendidas.drop(columns=['index'])"
   ]
  },
  {
   "cell_type": "code",
   "execution_count": 148,
   "metadata": {},
   "outputs": [],
   "source": [
    "# Filtra as disciplinas com conflito de horarios pela tarde\n",
    "dias_semana = ['2','3','4','5','6']\n",
    "h_semana = ['1','2','3','4','5','6']\n",
    "\n",
    "horariosT = []\n",
    "for j in range(len(dias_semana)):\n",
    "    horariosT.append([])\n",
    "    for k in range(len(h_semana)):\n",
    "        horariosT[j].append([])\n",
    "        \n",
    "for i in range(len(atendidas[\"Horário\"])):\n",
    "    if 'T' in atendidas[\"Horário\"][i]:\n",
    "        h = atendidas[\"Horário\"][i].split('T')\n",
    "        dias = h[0]\n",
    "        tarde = h[1]\n",
    "        for j in range(len(dias_semana)):\n",
    "            for k in range(len(h_semana)):\n",
    "                if dias_semana[j] in dias and h_semana[k] in tarde:\n",
    "                    horariosT[j][k].append(atendidas[\"Componente\"][i])"
   ]
  },
  {
   "cell_type": "code",
   "execution_count": 149,
   "metadata": {},
   "outputs": [],
   "source": [
    "# Filtra as disciplinas com conflito de horarios pela manhã\n",
    "horariosM = []\n",
    "for j in range(len(dias_semana)):\n",
    "    horariosM.append([])\n",
    "    for k in range(len(h_semana)):\n",
    "        horariosM[j].append([])\n",
    "        \n",
    "for i in range(len(atendidas[\"Horário\"])):\n",
    "    if 'M' in atendidas[\"Horário\"][i]:\n",
    "        h = atendidas[\"Horário\"][i].split('M')\n",
    "        dias = h[0]\n",
    "        tarde = h[1]\n",
    "        for j in range(len(dias_semana)):\n",
    "            for k in range(len(h_semana)):\n",
    "                if dias_semana[j] in dias and h_semana[k] in tarde:\n",
    "                    horariosM[j][k].append(atendidas[\"Componente\"][i])"
   ]
  },
  {
   "cell_type": "code",
   "execution_count": 150,
   "metadata": {},
   "outputs": [],
   "source": [
    "#Cria o grafo com os conflitos encontrados\n",
    "g = nx.Graph()\n",
    "for j in range(len(dias_semana)):\n",
    "    for k in range(len(h_semana)):\n",
    "        for disc1 in horariosM[j][k]:\n",
    "            for disc2 in horariosM[j][k]:\n",
    "                if disc1 != disc2 :\n",
    "                    g.add_edge(disc1, disc2)\n",
    "                    \n",
    "for j in range(len(dias_semana)):\n",
    "    for k in range(len(h_semana)):\n",
    "        for disc1 in horariosT[j][k]:\n",
    "            for disc2 in horariosT[j][k]:\n",
    "                if disc1 != disc2 :\n",
    "                    g.add_edge(disc1, disc2)"
   ]
  },
  {
   "cell_type": "code",
   "execution_count": 153,
   "metadata": {},
   "outputs": [
    {
     "data": {
      "image/png": "[encoded data removed]",
      "text/plain": [
       "<matplotlib.figure.Figure at 0x15167eca90>"
      ]
     },
     "metadata": {},
     "output_type": "display_data"
    }
   ],
   "source": [
    "#Mostra o codigo gerado\n",
    "# print(g.source)\n",
    "nx.draw(g)\n",
    "plt.draw()"
   ]
  },
  {
   "cell_type": "code",
   "execution_count": 151,
   "metadata": {
    "scrolled": false
   },
   "outputs": [
    {
     "ename": "IndexError",
     "evalue": "list index out of range",
     "output_type": "error",
     "traceback": [
      "\u001b[0;31m---------------------------------------------------------------------------\u001b[0m",
      "\u001b[0;31mIndexError\u001b[0m                                Traceback (most recent call last)",
      "\u001b[0;32m<ipython-input-151-9291c8a20c0d>\u001b[0m in \u001b[0;36m<module>\u001b[0;34m()\u001b[0m\n\u001b[1;32m      2\u001b[0m \u001b[0mp\u001b[0m \u001b[0;34m=\u001b[0m \u001b[0;34m[\u001b[0m\u001b[0;34m(\u001b[0m\u001b[0;36m0\u001b[0m\u001b[0;34m,\u001b[0m\u001b[0;36m0\u001b[0m\u001b[0;34m)\u001b[0m\u001b[0;34m,\u001b[0m\u001b[0;34m(\u001b[0m\u001b[0;36m0\u001b[0m\u001b[0;34m,\u001b[0m\u001b[0;36m10\u001b[0m\u001b[0;34m)\u001b[0m\u001b[0;34m,\u001b[0m\u001b[0;34m(\u001b[0m\u001b[0;36m10\u001b[0m\u001b[0;34m,\u001b[0m\u001b[0;36m5\u001b[0m\u001b[0;34m)\u001b[0m\u001b[0;34m,\u001b[0m\u001b[0;34m(\u001b[0m\u001b[0;36m8\u001b[0m\u001b[0;34m,\u001b[0m\u001b[0;36m7\u001b[0m\u001b[0;34m)\u001b[0m\u001b[0;34m,\u001b[0m\u001b[0;34m(\u001b[0m\u001b[0;36m7\u001b[0m\u001b[0;34m,\u001b[0m\u001b[0;36m8\u001b[0m\u001b[0;34m)\u001b[0m\u001b[0;34m,\u001b[0m\u001b[0;34m(\u001b[0m\u001b[0;36m8\u001b[0m\u001b[0;34m,\u001b[0m\u001b[0;36m9\u001b[0m\u001b[0;34m)\u001b[0m\u001b[0;34m]\u001b[0m\u001b[0;34m\u001b[0m\u001b[0m\n\u001b[1;32m      3\u001b[0m \u001b[0;32mfor\u001b[0m \u001b[0mi\u001b[0m\u001b[0;34m,\u001b[0m \u001b[0mn\u001b[0m \u001b[0;32min\u001b[0m \u001b[0menumerate\u001b[0m\u001b[0;34m(\u001b[0m\u001b[0mg\u001b[0m\u001b[0;34m.\u001b[0m\u001b[0mnodes\u001b[0m\u001b[0;34m)\u001b[0m\u001b[0;34m:\u001b[0m\u001b[0;34m\u001b[0m\u001b[0m\n\u001b[0;32m----> 4\u001b[0;31m     \u001b[0mpp\u001b[0m\u001b[0;34m[\u001b[0m\u001b[0mn\u001b[0m\u001b[0;34m]\u001b[0m \u001b[0;34m=\u001b[0m \u001b[0mp\u001b[0m\u001b[0;34m[\u001b[0m\u001b[0mi\u001b[0m\u001b[0;34m]\u001b[0m\u001b[0;34m\u001b[0m\u001b[0m\n\u001b[0m\u001b[1;32m      5\u001b[0m     \u001b[0;31m#print(n, p[i])\u001b[0m\u001b[0;34m\u001b[0m\u001b[0;34m\u001b[0m\u001b[0m\n\u001b[1;32m      6\u001b[0m \u001b[0;34m\u001b[0m\u001b[0m\n",
      "\u001b[0;31mIndexError\u001b[0m: list index out of range"
     ]
    }
   ],
   "source": [
    "pp = {}\n",
    "p = [(0,0),(0,10),(10,5),(8,7),(7,8),(8,9)]\n",
    "for i, n in enumerate(g.nodes):\n",
    "    pp[n] = p[i]\n",
    "    #print(n, p[i])\n",
    "\n",
    "pos = nx.spring_layout(g,k=10,scale=0.05)\n",
    "#options = {\n",
    "    #'font_weight':'bold',\n",
    "#    'with_labels':True\n",
    "#}\n",
    "nx.draw(g, pos)\n",
    "plt.draw()"
   ]
  },
  {
   "cell_type": "code",
   "execution_count": 129,
   "metadata": {},
   "outputs": [
    {
     "name": "stdout",
     "output_type": "stream",
     "text": [
      "DIM0117 - ESTRUTURAS DE DADOS BÁSICAS II (6, 1)\n",
      "DIM0119 - ESTRUTURA DE DADOS BÁSICAS I (10, 10)\n",
      "DIM0120 - LINGUAGEM DE PROGRAMAÇÃO I (6, 3)\n",
      "DBQ0050 - BIOINFORMÁTICA ESTRUTURAL (8, 7)\n",
      "DIM0124 - PROGRAMAÇÃO CONCORRENTE (7, 8)\n",
      "DIM0346 - GERENCIAMENTO E SEGURANCA EM REDES DE COMPUTADORES (8, 9)\n"
     ]
    }
   ],
   "source": []
  }
 ],
 "metadata": {
  "kernelspec": {
   "display_name": "Python 3",
   "language": "python",
   "name": "python3"
  },
  "language_info": {
   "codemirror_mode": {
    "name": "ipython",
    "version": 3
   },
   "file_extension": ".py",
   "mimetype": "text/x-python",
   "name": "python",
   "nbconvert_exporter": "python",
   "pygments_lexer": "ipython3",
   "version": "3.6.4"
  }
 },
 "nbformat": 4,
 "nbformat_minor": 2
}
